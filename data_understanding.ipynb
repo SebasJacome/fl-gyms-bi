{
 "cells": [
  {
   "cell_type": "code",
   "execution_count": 1,
   "id": "70dfce1c-7e83-4f43-ab45-43d4154de809",
   "metadata": {},
   "outputs": [],
   "source": [
    "import pandas as pd\n",
    "import matplotlib.pyplot as plt\n",
    "import seaborn as sns\n",
    "import plotly.express as px\n",
    "from datetime import *"
   ]
  },
  {
   "cell_type": "code",
   "execution_count": 2,
   "id": "e8e6f656-6d5a-4313-97be-1a12628fa87a",
   "metadata": {},
   "outputs": [],
   "source": [
    "df_business_a = pd.read_parquet(\"./data/business_attributes.parquet\")\n",
    "\n",
    "df_review = pd.read_parquet(\"./data/review.parquet\")\n",
    "\n",
    "df_tip = pd.read_parquet(\"./data/tip.parquet\")"
   ]
  },
  {
   "cell_type": "code",
   "execution_count": 4,
   "id": "90c05a5b-2aa2-4482-b052-855d71130dac",
   "metadata": {},
   "outputs": [],
   "source": [
    "df_business = pd.read_parquet(\"./data/business.parquet\")\n",
    "df_business_h = pd.read_parquet(\"./data/business_hours.parquet\")\n",
    "\n",
    "elements = []\n",
    "for key, value in zip(df_business_h[\"day\"], df_business_h[\"open_close\"]):\n",
    "    open_hour, close_hour = value.split(\"-\")\n",
    "    dt_open = datetime.strptime(open_hour, \"%H:%M\")\n",
    "    dt_close = datetime.strptime(close_hour, \"%H:%M\")\n",
    "    elements.append({key: tuple((dt_open.time(), dt_close.time()))})\n",
    "\n",
    "s = pd.Series(elements)\n",
    "\n",
    "df_b = pd.concat([df_business_h['business_id'], s], axis=1)\n",
    "df_b = df_b.rename(columns = {0: \"working_days\"})\n",
    "\n",
    "df_b[\"working_days\"] = df_b[\"working_days\"].apply(lambda x: dict(x))\n",
    "\n",
    "df_b = (\n",
    "    df_b.groupby(\"business_id\", sort=False, as_index=False)\n",
    "        .agg({\"working_days\": lambda lst: {k: v for d in lst for k, v in d.items()}})\n",
    ")\n",
    "\n",
    "df_merged = pd.merge(df_business, df_b, on=\"business_id\", how=\"left\")\n",
    "\n",
    "df_merged.to_parquet(\"./data/business_hours_merge.parquet\")"
   ]
  },
  {
   "cell_type": "code",
   "execution_count": null,
   "id": "1d10187f-977e-4879-8421-27a2369d0713",
   "metadata": {},
   "outputs": [],
   "source": []
  }
 ],
 "metadata": {
  "kernelspec": {
   "display_name": "bi",
   "language": "python",
   "name": "bi"
  },
  "language_info": {
   "codemirror_mode": {
    "name": "ipython",
    "version": 3
   },
   "file_extension": ".py",
   "mimetype": "text/x-python",
   "name": "python",
   "nbconvert_exporter": "python",
   "pygments_lexer": "ipython3",
   "version": "3.13.7"
  }
 },
 "nbformat": 4,
 "nbformat_minor": 5
}
