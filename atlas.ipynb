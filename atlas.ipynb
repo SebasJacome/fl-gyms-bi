{
 "cells": [
  {
   "cell_type": "code",
   "execution_count": null,
   "id": "96a26c74-5be0-4f8b-8944-d203c0e89be8",
   "metadata": {},
   "outputs": [],
   "source": [
    "from embedding_atlas.widget import EmbeddingAtlasWidget\n",
    "from embedding_atlas.projection import compute_text_projection\n",
    "import pandas as pd\n",
    "from datasets import load_dataset"
   ]
  },
  {
   "cell_type": "code",
   "execution_count": null,
   "id": "8bb9a835-d5f0-4d8b-a41e-e2c7680b8c3a",
   "metadata": {},
   "outputs": [],
   "source": [
    "#ds = load_dataset(\"james-burton/wine_reviews\", split=\"validation\")\n",
    "#df = pd.DataFrame(ds)\n",
    "\n",
    "df = pd.read_parquet(\"./data/review.parquet\")"
   ]
  },
  {
   "cell_type": "code",
   "execution_count": null,
   "id": "fb2716ee-8efe-4239-a6f8-100b350bd745",
   "metadata": {},
   "outputs": [],
   "source": [
    "compute_text_projection(df, text=\"text\", x=\"embedding_x\", y=\"embedding_y\", neighbors=\"neighbors\")\n"
   ]
  },
  {
   "cell_type": "code",
   "execution_count": null,
   "id": "ecdc1a55-a281-4f90-86d5-c27c361505f5",
   "metadata": {},
   "outputs": [],
   "source": [
    "w = EmbeddingAtlasWidget(df, text=\"text\", x=\"embedding_x\", y=\"embedding_y\", neighbors=\"neighbors\", show_charts=False,\n",
    "    show_embedding=True,)\n",
    "\n",
    "w"
   ]
  },
  {
   "cell_type": "code",
   "execution_count": null,
   "id": "1726755d-f61c-4211-a948-5cc1c8ec6fdf",
   "metadata": {},
   "outputs": [],
   "source": []
  }
 ],
 "metadata": {
  "kernelspec": {
   "display_name": "bi",
   "language": "python",
   "name": "bi"
  },
  "language_info": {
   "codemirror_mode": {
    "name": "ipython",
    "version": 3
   },
   "file_extension": ".py",
   "mimetype": "text/x-python",
   "name": "python",
   "nbconvert_exporter": "python",
   "pygments_lexer": "ipython3",
   "version": "3.13.7"
  }
 },
 "nbformat": 4,
 "nbformat_minor": 5
}
